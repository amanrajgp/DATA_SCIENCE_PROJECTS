{
 "cells": [
  {
   "cell_type": "markdown",
   "id": "f2ad15f2",
   "metadata": {},
   "source": [
    "# RANK PREDICTOR"
   ]
  },
  {
   "cell_type": "markdown",
   "id": "930cfba8",
   "metadata": {},
   "source": [
    "# importing Relevant Library and Regression models"
   ]
  },
  {
   "cell_type": "code",
   "execution_count": 1,
   "id": "f4b32b05",
   "metadata": {},
   "outputs": [
    {
     "name": "stderr",
     "output_type": "stream",
     "text": [
      "C:\\Users\\amanr\\anaconda3\\lib\\site-packages\\scipy\\__init__.py:146: UserWarning: A NumPy version >=1.16.5 and <1.23.0 is required for this version of SciPy (detected version 1.23.1\n",
      "  warnings.warn(f\"A NumPy version >={np_minversion} and <{np_maxversion}\"\n"
     ]
    }
   ],
   "source": [
    "import numpy as np\n",
    "import pandas as pd\n",
    "import matplotlib.pyplot as plt\n",
    "import math\n",
    "\n",
    "\n",
    "import seaborn as sns\n",
    "sns.set()\n",
    "\n",
    "from sklearn.linear_model import LinearRegression\n"
   ]
  },
  {
   "cell_type": "markdown",
   "id": "95ad9a7f",
   "metadata": {},
   "source": [
    "# importing data "
   ]
  },
  {
   "cell_type": "code",
   "execution_count": 2,
   "id": "2c528f68",
   "metadata": {},
   "outputs": [],
   "source": [
    "data=pd.read_csv(r\"C:\\Users\\amanr\\Desktop\\test_data.csv\")"
   ]
  },
  {
   "cell_type": "markdown",
   "id": "13a70c19",
   "metadata": {},
   "source": [
    "# showing data"
   ]
  },
  {
   "cell_type": "code",
   "execution_count": 3,
   "id": "47eacfd5",
   "metadata": {},
   "outputs": [
    {
     "data": {
      "text/html": [
       "<div>\n",
       "<style scoped>\n",
       "    .dataframe tbody tr th:only-of-type {\n",
       "        vertical-align: middle;\n",
       "    }\n",
       "\n",
       "    .dataframe tbody tr th {\n",
       "        vertical-align: top;\n",
       "    }\n",
       "\n",
       "    .dataframe thead th {\n",
       "        text-align: right;\n",
       "    }\n",
       "</style>\n",
       "<table border=\"1\" class=\"dataframe\">\n",
       "  <thead>\n",
       "    <tr style=\"text-align: right;\">\n",
       "      <th></th>\n",
       "      <th>MARKS</th>\n",
       "      <th>RANK</th>\n",
       "    </tr>\n",
       "  </thead>\n",
       "  <tbody>\n",
       "    <tr>\n",
       "      <th>0</th>\n",
       "      <td>93</td>\n",
       "      <td>24946</td>\n",
       "    </tr>\n",
       "    <tr>\n",
       "      <th>1</th>\n",
       "      <td>93</td>\n",
       "      <td>24722</td>\n",
       "    </tr>\n",
       "    <tr>\n",
       "      <th>2</th>\n",
       "      <td>94</td>\n",
       "      <td>24265</td>\n",
       "    </tr>\n",
       "    <tr>\n",
       "      <th>3</th>\n",
       "      <td>95</td>\n",
       "      <td>23751</td>\n",
       "    </tr>\n",
       "    <tr>\n",
       "      <th>4</th>\n",
       "      <td>96</td>\n",
       "      <td>23259</td>\n",
       "    </tr>\n",
       "    <tr>\n",
       "      <th>...</th>\n",
       "      <td>...</td>\n",
       "      <td>...</td>\n",
       "    </tr>\n",
       "    <tr>\n",
       "      <th>250</th>\n",
       "      <td>342</td>\n",
       "      <td>2</td>\n",
       "    </tr>\n",
       "    <tr>\n",
       "      <th>251</th>\n",
       "      <td>343</td>\n",
       "      <td>1</td>\n",
       "    </tr>\n",
       "    <tr>\n",
       "      <th>252</th>\n",
       "      <td>344</td>\n",
       "      <td>1</td>\n",
       "    </tr>\n",
       "    <tr>\n",
       "      <th>253</th>\n",
       "      <td>345</td>\n",
       "      <td>1</td>\n",
       "    </tr>\n",
       "    <tr>\n",
       "      <th>254</th>\n",
       "      <td>346</td>\n",
       "      <td>1</td>\n",
       "    </tr>\n",
       "  </tbody>\n",
       "</table>\n",
       "<p>255 rows × 2 columns</p>\n",
       "</div>"
      ],
      "text/plain": [
       "     MARKS   RANK\n",
       "0       93  24946\n",
       "1       93  24722\n",
       "2       94  24265\n",
       "3       95  23751\n",
       "4       96  23259\n",
       "..     ...    ...\n",
       "250    342      2\n",
       "251    343      1\n",
       "252    344      1\n",
       "253    345      1\n",
       "254    346      1\n",
       "\n",
       "[255 rows x 2 columns]"
      ]
     },
     "execution_count": 3,
     "metadata": {},
     "output_type": "execute_result"
    }
   ],
   "source": [
    "data"
   ]
  },
  {
   "cell_type": "markdown",
   "id": "824c3b26",
   "metadata": {},
   "source": [
    "# describing data basic features like mean ,standard deviation,etc."
   ]
  },
  {
   "cell_type": "markdown",
   "id": "dc5f7fe2",
   "metadata": {},
   "source": [
    "data.describe()"
   ]
  },
  {
   "cell_type": "markdown",
   "id": "813101b8",
   "metadata": {},
   "source": [
    "# assigning data on axis \n"
   ]
  },
  {
   "cell_type": "code",
   "execution_count": 4,
   "id": "3d8a0f40",
   "metadata": {},
   "outputs": [],
   "source": [
    "x=data[\"MARKS\"]\n",
    "y=data[\"RANK\"]\n",
    "\n",
    "\n",
    "\n"
   ]
  },
  {
   "cell_type": "markdown",
   "id": "26e0af73",
   "metadata": {},
   "source": [
    "# transformation of axis to get standard plot(to create good model)"
   ]
  },
  {
   "cell_type": "code",
   "execution_count": 5,
   "id": "efe073ce",
   "metadata": {},
   "outputs": [],
   "source": [
    "y_formatted=(np.log(y)/np.log(5))**1.50"
   ]
  },
  {
   "cell_type": "markdown",
   "id": "c9ca151d",
   "metadata": {},
   "source": [
    "# using LinearRegression class to create an object/model named \"reg\""
   ]
  },
  {
   "cell_type": "code",
   "execution_count": 6,
   "id": "f66b0d97",
   "metadata": {},
   "outputs": [],
   "source": [
    "reg=LinearRegression()"
   ]
  },
  {
   "cell_type": "markdown",
   "id": "077e6100",
   "metadata": {},
   "source": [
    "# checking shape of independent variable"
   ]
  },
  {
   "cell_type": "code",
   "execution_count": 7,
   "id": "0dd06b9c",
   "metadata": {},
   "outputs": [
    {
     "data": {
      "text/plain": [
       "(255,)"
      ]
     },
     "execution_count": 7,
     "metadata": {},
     "output_type": "execute_result"
    }
   ],
   "source": [
    "x.shape\n"
   ]
  },
  {
   "cell_type": "markdown",
   "id": "11283727",
   "metadata": {},
   "source": [
    "# changing dimension of x to make it valid matrix"
   ]
  },
  {
   "cell_type": "code",
   "execution_count": 8,
   "id": "eff0c33b",
   "metadata": {},
   "outputs": [],
   "source": [
    "x_matrix=x.values.reshape(255,1)\n",
    "\n"
   ]
  },
  {
   "cell_type": "markdown",
   "id": "b0f4f1a0",
   "metadata": {},
   "source": [
    "# fitting data to model"
   ]
  },
  {
   "cell_type": "code",
   "execution_count": 9,
   "id": "54921d17",
   "metadata": {},
   "outputs": [
    {
     "data": {
      "text/plain": [
       "LinearRegression()"
      ]
     },
     "execution_count": 9,
     "metadata": {},
     "output_type": "execute_result"
    }
   ],
   "source": [
    "reg.fit(x_matrix,y_formatted)"
   ]
  },
  {
   "cell_type": "markdown",
   "id": "60e50f58",
   "metadata": {},
   "source": [
    "# calculating statistical features"
   ]
  },
  {
   "cell_type": "code",
   "execution_count": 10,
   "id": "98da8b8e",
   "metadata": {},
   "outputs": [],
   "source": [
    "coef=reg.coef_"
   ]
  },
  {
   "cell_type": "code",
   "execution_count": 11,
   "id": "75e91d78",
   "metadata": {},
   "outputs": [],
   "source": [
    "icpt=reg.intercept_"
   ]
  },
  {
   "cell_type": "markdown",
   "id": "c0d045b2",
   "metadata": {},
   "source": [
    "# ploting formatted data on graph"
   ]
  },
  {
   "cell_type": "code",
   "execution_count": 12,
   "id": "e914ebe0",
   "metadata": {
    "scrolled": true
   },
   "outputs": [
    {
     "data": {
      "image/png": "[encoded data removed]",
      "text/plain": [
       "<Figure size 432x288 with 1 Axes>"
      ]
     },
     "metadata": {},
     "output_type": "display_data"
    }
   ],
   "source": [
    "plt.scatter(x_matrix,y_formatted)\n",
    "plt.xlabel(\"Marks\",fontsize=20)\n",
    "plt.ylabel(\"Rank\",fontsize=20)\n",
    "plt.show()"
   ]
  },
  {
   "cell_type": "markdown",
   "id": "dcdc556d",
   "metadata": {},
   "source": [
    "# creating Regression line and plotting it with original data"
   ]
  },
  {
   "cell_type": "code",
   "execution_count": 13,
   "id": "a321d244",
   "metadata": {
    "scrolled": true
   },
   "outputs": [
    {
     "data": {
      "image/png": "[encoded data removed]",
      "text/plain": [
       "<Figure size 432x288 with 1 Axes>"
      ]
     },
     "metadata": {},
     "output_type": "display_data"
    }
   ],
   "source": [
    "plt.scatter(x_matrix,y_formatted)\n",
    "yhat=coef*x_matrix+icpt\n",
    "fig=plt.plot(x_matrix,yhat,lw=4,c=\"orange\",label=\"regression line\")\n",
    "plt.xlabel(\"Marks\",fontsize=20)\n",
    "plt.ylabel(\"Rank\",fontsize=20)\n",
    "plt.show()"
   ]
  },
  {
   "cell_type": "markdown",
   "id": "b5d18a28",
   "metadata": {},
   "source": [
    "# above graph shows that our regression model doing best as it fitted almost completely to original dataset."
   ]
  },
  {
   "cell_type": "markdown",
   "id": "63ef38ca",
   "metadata": {},
   "source": [
    "# creating dataframe for two columns(actual output,predicted output)"
   ]
  },
  {
   "cell_type": "code",
   "execution_count": 14,
   "id": "19cb1a76",
   "metadata": {},
   "outputs": [],
   "source": [
    "new_data=x.values.reshape(255,1)\n",
    "\n",
    "\n"
   ]
  },
  {
   "cell_type": "markdown",
   "id": "84db42ea",
   "metadata": {},
   "source": [
    "# predicted value column in dataframe"
   ]
  },
  {
   "cell_type": "code",
   "execution_count": 15,
   "id": "c5d0c5a8",
   "metadata": {},
   "outputs": [
    {
     "name": "stderr",
     "output_type": "stream",
     "text": [
      "C:\\Users\\amanr\\AppData\\Local\\Temp\\ipykernel_27848\\3658383574.py:1: RuntimeWarning: invalid value encountered in power\n",
      "  predicted_array1=((5)**(reg.predict(new_data))**(1/1.50)).round(0)\n"
     ]
    }
   ],
   "source": [
    "predicted_array1=((5)**(reg.predict(new_data))**(1/1.50)).round(0)"
   ]
  },
  {
   "cell_type": "code",
   "execution_count": 16,
   "id": "ea4b3363",
   "metadata": {},
   "outputs": [],
   "source": [
    "predictiondfs=pd.DataFrame({\"Predicted Rank\":predicted_array1})\n",
    "joined=data.join(predictiondfs)\n"
   ]
  },
  {
   "cell_type": "markdown",
   "id": "75f0fa3c",
   "metadata": {},
   "source": [
    "# calculating Accuracy of my Model"
   ]
  },
  {
   "cell_type": "code",
   "execution_count": 17,
   "id": "1fb5a271",
   "metadata": {},
   "outputs": [],
   "source": [
    "count=0\n",
    "diff=0.4\n",
    "for i in range(255):\n",
    "    if abs(joined[\"RANK\"][i]-joined[\"Predicted Rank\"][i])<=diff*joined[\"RANK\"][i]:\n",
    "        count+=1\n",
    "accuracy=count*100/255"
   ]
  },
  {
   "cell_type": "markdown",
   "id": "b22461d4",
   "metadata": {},
   "source": [
    "# ACCURACY"
   ]
  },
  {
   "cell_type": "code",
   "execution_count": 18,
   "id": "b641e3a5",
   "metadata": {},
   "outputs": [
    {
     "name": "stdout",
     "output_type": "stream",
     "text": [
      "Accuracy=97\n"
     ]
    }
   ],
   "source": [
    "print(f\"Accuracy={math.ceil(accuracy)}\")"
   ]
  },
  {
   "cell_type": "markdown",
   "id": "16a1cd73",
   "metadata": {},
   "source": [
    "# Predicting Rank using My model on test data"
   ]
  },
  {
   "cell_type": "code",
   "execution_count": 19,
   "id": "2f02b365",
   "metadata": {},
   "outputs": [],
   "source": [
    "test_marks=110\n",
    "new_data2=pd.DataFrame(data=[test_marks],columns=[\"Predicted rank\"])"
   ]
  },
  {
   "cell_type": "code",
   "execution_count": 20,
   "id": "fb88bf9f",
   "metadata": {
    "scrolled": true
   },
   "outputs": [
    {
     "name": "stderr",
     "output_type": "stream",
     "text": [
      "C:\\Users\\amanr\\anaconda3\\lib\\site-packages\\sklearn\\base.py:443: UserWarning: X has feature names, but LinearRegression was fitted without feature names\n",
      "  warnings.warn(\n"
     ]
    }
   ],
   "source": [
    "\n",
    "predicted_array2=((5)**(reg.predict(new_data2))**(1/1.50)).round(0)\n"
   ]
  },
  {
   "cell_type": "markdown",
   "id": "84cfcc4a",
   "metadata": {},
   "source": [
    "# Prdeicted RANK"
   ]
  },
  {
   "cell_type": "code",
   "execution_count": 21,
   "id": "3455c20b",
   "metadata": {},
   "outputs": [
    {
     "name": "stdout",
     "output_type": "stream",
     "text": [
      "18253\n"
     ]
    }
   ],
   "source": [
    "def prediction_rank(predicted_array2):\n",
    "    if predicted_array2[0].round(0)>=1:\n",
    "        return (int(predicted_array2[0]))\n",
    "\n",
    "    else:\n",
    "        return (1)\n",
    "rank=prediction_rank(predicted_array2)\n",
    "print(rank)"
   ]
  },
  {
   "cell_type": "markdown",
   "id": "74c6f04a",
   "metadata": {},
   "source": [
    "# Saving modified table to local worksplace"
   ]
  },
  {
   "cell_type": "markdown",
   "id": "5326b3b7",
   "metadata": {},
   "source": [
    "joined.to_csv(r\"C:\\Users\\amanr\\Desktop\\Rank_Predictor.csv\",index=False)"
   ]
  },
  {
   "cell_type": "markdown",
   "id": "6a4d6217",
   "metadata": {},
   "source": [
    "# COLLEGE PREDICTOR"
   ]
  },
  {
   "cell_type": "markdown",
   "id": "666978e5",
   "metadata": {},
   "source": [
    "# importing sql library for robust queries"
   ]
  },
  {
   "cell_type": "code",
   "execution_count": 22,
   "id": "b6ac94ba",
   "metadata": {},
   "outputs": [],
   "source": [
    "import sqlite3"
   ]
  },
  {
   "cell_type": "code",
   "execution_count": 23,
   "id": "e499fd21",
   "metadata": {},
   "outputs": [
    {
     "name": "stdout",
     "output_type": "stream",
     "text": [
      "Requirement already satisfied: ipython-sql in c:\\users\\amanr\\anaconda3\\lib\\site-packages (0.4.1)\n",
      "Requirement already satisfied: ipython-genutils>=0.1.0 in c:\\users\\amanr\\anaconda3\\lib\\site-packages (from ipython-sql) (0.2.0)\n",
      "Requirement already satisfied: sqlalchemy>=0.6.7 in c:\\users\\amanr\\anaconda3\\lib\\site-packages (from ipython-sql) (1.4.32)\n",
      "Requirement already satisfied: sqlparse in c:\\users\\amanr\\anaconda3\\lib\\site-packages (from ipython-sql) (0.4.2)\n",
      "Requirement already satisfied: ipython>=1.0 in c:\\users\\amanr\\anaconda3\\lib\\site-packages (from ipython-sql) (8.2.0)\n",
      "Requirement already satisfied: prettytable<1 in c:\\users\\amanr\\anaconda3\\lib\\site-packages (from ipython-sql) (0.7.2)\n",
      "Requirement already satisfied: six in c:\\users\\amanr\\anaconda3\\lib\\site-packages (from ipython-sql) (1.16.0)\n",
      "Requirement already satisfied: decorator in c:\\users\\amanr\\anaconda3\\lib\\site-packages (from ipython>=1.0->ipython-sql) (5.1.1)\n",
      "Requirement already satisfied: pygments>=2.4.0 in c:\\users\\amanr\\anaconda3\\lib\\site-packages (from ipython>=1.0->ipython-sql) (2.11.2)\n",
      "Requirement already satisfied: setuptools>=18.5 in c:\\users\\amanr\\anaconda3\\lib\\site-packages (from ipython>=1.0->ipython-sql) (61.2.0)\n",
      "Requirement already satisfied: stack-data in c:\\users\\amanr\\anaconda3\\lib\\site-packages (from ipython>=1.0->ipython-sql) (0.2.0)\n",
      "Requirement already satisfied: colorama in c:\\users\\amanr\\anaconda3\\lib\\site-packages (from ipython>=1.0->ipython-sql) (0.4.4)\n",
      "Requirement already satisfied: pickleshare in c:\\users\\amanr\\anaconda3\\lib\\site-packages (from ipython>=1.0->ipython-sql) (0.7.5)\n",
      "Requirement already satisfied: jedi>=0.16 in c:\\users\\amanr\\anaconda3\\lib\\site-packages (from ipython>=1.0->ipython-sql) (0.18.1)\n",
      "Requirement already satisfied: matplotlib-inline in c:\\users\\amanr\\anaconda3\\lib\\site-packages (from ipython>=1.0->ipython-sql) (0.1.2)\n",
      "Requirement already satisfied: traitlets>=5 in c:\\users\\amanr\\anaconda3\\lib\\site-packages (from ipython>=1.0->ipython-sql) (5.1.1)\n",
      "Requirement already satisfied: backcall in c:\\users\\amanr\\anaconda3\\lib\\site-packages (from ipython>=1.0->ipython-sql) (0.2.0)\n",
      "Requirement already satisfied: prompt-toolkit!=3.0.0,!=3.0.1,<3.1.0,>=2.0.0 in c:\\users\\amanr\\anaconda3\\lib\\site-packages (from ipython>=1.0->ipython-sql) (3.0.20)\n",
      "Requirement already satisfied: parso<0.9.0,>=0.8.0 in c:\\users\\amanr\\anaconda3\\lib\\site-packages (from jedi>=0.16->ipython>=1.0->ipython-sql) (0.8.3)\n",
      "Requirement already satisfied: wcwidth in c:\\users\\amanr\\anaconda3\\lib\\site-packages (from prompt-toolkit!=3.0.0,!=3.0.1,<3.1.0,>=2.0.0->ipython>=1.0->ipython-sql) (0.2.5)\n",
      "Requirement already satisfied: greenlet!=0.4.17 in c:\\users\\amanr\\anaconda3\\lib\\site-packages (from sqlalchemy>=0.6.7->ipython-sql) (1.1.1)\n",
      "Requirement already satisfied: asttokens in c:\\users\\amanr\\anaconda3\\lib\\site-packages (from stack-data->ipython>=1.0->ipython-sql) (2.0.5)\n",
      "Requirement already satisfied: pure-eval in c:\\users\\amanr\\anaconda3\\lib\\site-packages (from stack-data->ipython>=1.0->ipython-sql) (0.2.2)\n",
      "Requirement already satisfied: executing in c:\\users\\amanr\\anaconda3\\lib\\site-packages (from stack-data->ipython>=1.0->ipython-sql) (0.8.3)\n"
     ]
    }
   ],
   "source": [
    "!pip install ipython-sql"
   ]
  },
  {
   "cell_type": "markdown",
   "id": "b27a568e",
   "metadata": {},
   "source": [
    "# IMPORTING COLLEGE -RANK DATASET TO PREDICT COLLEGE"
   ]
  },
  {
   "cell_type": "code",
   "execution_count": 24,
   "id": "9947a72d",
   "metadata": {},
   "outputs": [],
   "source": [
    "data1=pd.read_csv(r\"C:\\Users\\amanr\\Desktop\\josaa_cp.csv\").head(23)"
   ]
  },
  {
   "cell_type": "markdown",
   "id": "baec0d53",
   "metadata": {},
   "source": [
    "# adding predicted rank column to original table for clear visualisation."
   ]
  },
  {
   "cell_type": "code",
   "execution_count": 25,
   "id": "b909bd39",
   "metadata": {},
   "outputs": [
    {
     "data": {
      "text/html": [
       "<div>\n",
       "<style scoped>\n",
       "    .dataframe tbody tr th:only-of-type {\n",
       "        vertical-align: middle;\n",
       "    }\n",
       "\n",
       "    .dataframe tbody tr th {\n",
       "        vertical-align: top;\n",
       "    }\n",
       "\n",
       "    .dataframe thead th {\n",
       "        text-align: right;\n",
       "    }\n",
       "</style>\n",
       "<table border=\"1\" class=\"dataframe\">\n",
       "  <thead>\n",
       "    <tr style=\"text-align: right;\">\n",
       "      <th></th>\n",
       "      <th>Institute</th>\n",
       "      <th>Openingrank</th>\n",
       "      <th>Closingrank</th>\n",
       "      <th>rank</th>\n",
       "    </tr>\n",
       "  </thead>\n",
       "  <tbody>\n",
       "    <tr>\n",
       "      <th>0</th>\n",
       "      <td>Indian Institute of Technology Bhubaneswar</td>\n",
       "      <td>50</td>\n",
       "      <td>13231</td>\n",
       "      <td>18253</td>\n",
       "    </tr>\n",
       "    <tr>\n",
       "      <th>1</th>\n",
       "      <td>Indian Institute of Technology Bombay</td>\n",
       "      <td>1</td>\n",
       "      <td>10859</td>\n",
       "      <td>18253</td>\n",
       "    </tr>\n",
       "    <tr>\n",
       "      <th>2</th>\n",
       "      <td>Indian Institute of Technology Mandi</td>\n",
       "      <td>120</td>\n",
       "      <td>19089</td>\n",
       "      <td>18253</td>\n",
       "    </tr>\n",
       "    <tr>\n",
       "      <th>3</th>\n",
       "      <td>Indian Institute of Technology Delhi</td>\n",
       "      <td>2</td>\n",
       "      <td>11722</td>\n",
       "      <td>18253</td>\n",
       "    </tr>\n",
       "    <tr>\n",
       "      <th>4</th>\n",
       "      <td>Indian Institute of Technology Indore</td>\n",
       "      <td>23</td>\n",
       "      <td>15810</td>\n",
       "      <td>18253</td>\n",
       "    </tr>\n",
       "    <tr>\n",
       "      <th>5</th>\n",
       "      <td>Indian Institute of Technology Kharagpur</td>\n",
       "      <td>2</td>\n",
       "      <td>19104</td>\n",
       "      <td>18253</td>\n",
       "    </tr>\n",
       "    <tr>\n",
       "      <th>6</th>\n",
       "      <td>Indian Institute of Technology Hyderabad</td>\n",
       "      <td>9</td>\n",
       "      <td>12683</td>\n",
       "      <td>18253</td>\n",
       "    </tr>\n",
       "    <tr>\n",
       "      <th>7</th>\n",
       "      <td>Indian Institute of Technology Jodhpur</td>\n",
       "      <td>56</td>\n",
       "      <td>20939</td>\n",
       "      <td>18253</td>\n",
       "    </tr>\n",
       "    <tr>\n",
       "      <th>8</th>\n",
       "      <td>Indian Institute of Technology Kanpur</td>\n",
       "      <td>4</td>\n",
       "      <td>17093</td>\n",
       "      <td>18253</td>\n",
       "    </tr>\n",
       "    <tr>\n",
       "      <th>9</th>\n",
       "      <td>Indian Institute of Technology Madras</td>\n",
       "      <td>3</td>\n",
       "      <td>14212</td>\n",
       "      <td>18253</td>\n",
       "    </tr>\n",
       "    <tr>\n",
       "      <th>10</th>\n",
       "      <td>Indian Institute of Technology Dharwad</td>\n",
       "      <td>581</td>\n",
       "      <td>17979</td>\n",
       "      <td>18253</td>\n",
       "    </tr>\n",
       "    <tr>\n",
       "      <th>11</th>\n",
       "      <td>Indian Institute of Technology Jammu</td>\n",
       "      <td>568</td>\n",
       "      <td>21078</td>\n",
       "      <td>18253</td>\n",
       "    </tr>\n",
       "    <tr>\n",
       "      <th>12</th>\n",
       "      <td>Indian Institute of Technology Tirupati</td>\n",
       "      <td>54</td>\n",
       "      <td>18848</td>\n",
       "      <td>18253</td>\n",
       "    </tr>\n",
       "    <tr>\n",
       "      <th>13</th>\n",
       "      <td>Indian Institute of Technology Palakkad</td>\n",
       "      <td>468</td>\n",
       "      <td>19769</td>\n",
       "      <td>18253</td>\n",
       "    </tr>\n",
       "    <tr>\n",
       "      <th>14</th>\n",
       "      <td>Indian Institute of Technology Goa</td>\n",
       "      <td>471</td>\n",
       "      <td>16528</td>\n",
       "      <td>18253</td>\n",
       "    </tr>\n",
       "    <tr>\n",
       "      <th>15</th>\n",
       "      <td>Indian Institute of Technology Bhilai</td>\n",
       "      <td>167</td>\n",
       "      <td>17529</td>\n",
       "      <td>18253</td>\n",
       "    </tr>\n",
       "    <tr>\n",
       "      <th>16</th>\n",
       "      <td>Indian Institute of Technology Guwahati</td>\n",
       "      <td>10</td>\n",
       "      <td>13982</td>\n",
       "      <td>18253</td>\n",
       "    </tr>\n",
       "    <tr>\n",
       "      <th>17</th>\n",
       "      <td>Indian Institute of Technology (BHU) Varanasi</td>\n",
       "      <td>16</td>\n",
       "      <td>21263</td>\n",
       "      <td>18253</td>\n",
       "    </tr>\n",
       "    <tr>\n",
       "      <th>18</th>\n",
       "      <td>Indian Institute of Technology Ropar</td>\n",
       "      <td>45</td>\n",
       "      <td>18927</td>\n",
       "      <td>18253</td>\n",
       "    </tr>\n",
       "    <tr>\n",
       "      <th>19</th>\n",
       "      <td>Indian Institute of Technology Gandhinagar</td>\n",
       "      <td>69</td>\n",
       "      <td>15955</td>\n",
       "      <td>18253</td>\n",
       "    </tr>\n",
       "    <tr>\n",
       "      <th>20</th>\n",
       "      <td>Indian Institute of Technology Patna</td>\n",
       "      <td>71</td>\n",
       "      <td>19373</td>\n",
       "      <td>18253</td>\n",
       "    </tr>\n",
       "    <tr>\n",
       "      <th>21</th>\n",
       "      <td>Indian Institute of Technology Roorkee</td>\n",
       "      <td>4</td>\n",
       "      <td>17187</td>\n",
       "      <td>18253</td>\n",
       "    </tr>\n",
       "    <tr>\n",
       "      <th>22</th>\n",
       "      <td>Indian Institute of Technology (ISM) Dhanbad</td>\n",
       "      <td>34</td>\n",
       "      <td>21100</td>\n",
       "      <td>18253</td>\n",
       "    </tr>\n",
       "  </tbody>\n",
       "</table>\n",
       "</div>"
      ],
      "text/plain": [
       "                                        Institute  Openingrank  Closingrank  \\\n",
       "0      Indian Institute of Technology Bhubaneswar           50        13231   \n",
       "1           Indian Institute of Technology Bombay            1        10859   \n",
       "2            Indian Institute of Technology Mandi          120        19089   \n",
       "3            Indian Institute of Technology Delhi            2        11722   \n",
       "4           Indian Institute of Technology Indore           23        15810   \n",
       "5        Indian Institute of Technology Kharagpur            2        19104   \n",
       "6        Indian Institute of Technology Hyderabad            9        12683   \n",
       "7          Indian Institute of Technology Jodhpur           56        20939   \n",
       "8           Indian Institute of Technology Kanpur            4        17093   \n",
       "9           Indian Institute of Technology Madras            3        14212   \n",
       "10         Indian Institute of Technology Dharwad          581        17979   \n",
       "11           Indian Institute of Technology Jammu          568        21078   \n",
       "12        Indian Institute of Technology Tirupati           54        18848   \n",
       "13        Indian Institute of Technology Palakkad          468        19769   \n",
       "14             Indian Institute of Technology Goa          471        16528   \n",
       "15          Indian Institute of Technology Bhilai          167        17529   \n",
       "16        Indian Institute of Technology Guwahati           10        13982   \n",
       "17  Indian Institute of Technology (BHU) Varanasi           16        21263   \n",
       "18           Indian Institute of Technology Ropar           45        18927   \n",
       "19     Indian Institute of Technology Gandhinagar           69        15955   \n",
       "20           Indian Institute of Technology Patna           71        19373   \n",
       "21         Indian Institute of Technology Roorkee            4        17187   \n",
       "22   Indian Institute of Technology (ISM) Dhanbad           34        21100   \n",
       "\n",
       "     rank  \n",
       "0   18253  \n",
       "1   18253  \n",
       "2   18253  \n",
       "3   18253  \n",
       "4   18253  \n",
       "5   18253  \n",
       "6   18253  \n",
       "7   18253  \n",
       "8   18253  \n",
       "9   18253  \n",
       "10  18253  \n",
       "11  18253  \n",
       "12  18253  \n",
       "13  18253  \n",
       "14  18253  \n",
       "15  18253  \n",
       "16  18253  \n",
       "17  18253  \n",
       "18  18253  \n",
       "19  18253  \n",
       "20  18253  \n",
       "21  18253  \n",
       "22  18253  "
      ]
     },
     "execution_count": 25,
     "metadata": {},
     "output_type": "execute_result"
    }
   ],
   "source": [
    "data1[\"rank\"]=rank\n",
    "data1"
   ]
  },
  {
   "cell_type": "markdown",
   "id": "366a20e2",
   "metadata": {},
   "source": [
    "# connecting notebook to database"
   ]
  },
  {
   "cell_type": "code",
   "execution_count": 26,
   "id": "a9807a55",
   "metadata": {},
   "outputs": [],
   "source": [
    "cnn=sqlite3.connect(\"college_predictor.db\")"
   ]
  },
  {
   "cell_type": "code",
   "execution_count": 27,
   "id": "ccb81b8d",
   "metadata": {},
   "outputs": [
    {
     "data": {
      "text/plain": [
       "23"
      ]
     },
     "execution_count": 27,
     "metadata": {},
     "output_type": "execute_result"
    }
   ],
   "source": [
    "data1.to_sql(\"college\",cnn,if_exists=\"replace\")"
   ]
  },
  {
   "cell_type": "code",
   "execution_count": 28,
   "id": "dcadc41a",
   "metadata": {},
   "outputs": [],
   "source": [
    "%load_ext sql"
   ]
  },
  {
   "cell_type": "code",
   "execution_count": 29,
   "id": "8ccfde04",
   "metadata": {},
   "outputs": [],
   "source": [
    "%sql sqlite:///college_predictor.db"
   ]
  },
  {
   "cell_type": "markdown",
   "id": "3b5ec086",
   "metadata": {},
   "source": [
    "# writing query to fetch required data"
   ]
  },
  {
   "cell_type": "code",
   "execution_count": 30,
   "id": "5259f6b2",
   "metadata": {
    "scrolled": false
   },
   "outputs": [
    {
     "name": "stdout",
     "output_type": "stream",
     "text": [
      " * sqlite:///college_predictor.db\n",
      "Done.\n"
     ]
    },
    {
     "data": {
      "text/html": [
       "<table>\n",
       "    <tr>\n",
       "        <th>Predicted_Institutes</th>\n",
       "    </tr>\n",
       "    <tr>\n",
       "        <td>Indian Institute of Technology (BHU) Varanasi</td>\n",
       "    </tr>\n",
       "    <tr>\n",
       "        <td>Indian Institute of Technology (ISM) Dhanbad</td>\n",
       "    </tr>\n",
       "    <tr>\n",
       "        <td>Indian Institute of Technology Jammu</td>\n",
       "    </tr>\n",
       "    <tr>\n",
       "        <td>Indian Institute of Technology Jodhpur</td>\n",
       "    </tr>\n",
       "    <tr>\n",
       "        <td>Indian Institute of Technology Kharagpur</td>\n",
       "    </tr>\n",
       "    <tr>\n",
       "        <td>Indian Institute of Technology Mandi</td>\n",
       "    </tr>\n",
       "    <tr>\n",
       "        <td>Indian Institute of Technology Palakkad</td>\n",
       "    </tr>\n",
       "    <tr>\n",
       "        <td>Indian Institute of Technology Patna</td>\n",
       "    </tr>\n",
       "    <tr>\n",
       "        <td>Indian Institute of Technology Ropar</td>\n",
       "    </tr>\n",
       "    <tr>\n",
       "        <td>Indian Institute of Technology Tirupati</td>\n",
       "    </tr>\n",
       "</table>"
      ],
      "text/plain": [
       "[('Indian Institute of Technology (BHU) Varanasi',),\n",
       " ('Indian Institute of Technology (ISM) Dhanbad',),\n",
       " ('Indian Institute of Technology Jammu',),\n",
       " ('Indian Institute of Technology Jodhpur',),\n",
       " ('Indian Institute of Technology Kharagpur',),\n",
       " ('Indian Institute of Technology Mandi',),\n",
       " ('Indian Institute of Technology Palakkad',),\n",
       " ('Indian Institute of Technology Patna',),\n",
       " ('Indian Institute of Technology Ropar',),\n",
       " ('Indian Institute of Technology Tirupati',)]"
      ]
     },
     "execution_count": 30,
     "metadata": {},
     "output_type": "execute_result"
    }
   ],
   "source": [
    "\n",
    "%%sql\n",
    "\n",
    "select Institute as Predicted_Institutes from college\n",
    "where Closingrank>=rank\n",
    "order by institute\n",
    ";\n"
   ]
  }
 ],
 "metadata": {
  "kernelspec": {
   "display_name": "Python 3 (ipykernel)",
   "language": "python",
   "name": "python3"
  },
  "language_info": {
   "codemirror_mode": {
    "name": "ipython",
    "version": 3
   },
   "file_extension": ".py",
   "mimetype": "text/x-python",
   "name": "python",
   "nbconvert_exporter": "python",
   "pygments_lexer": "ipython3",
   "version": "3.9.12"
  }
 },
 "nbformat": 4,
 "nbformat_minor": 5
}
